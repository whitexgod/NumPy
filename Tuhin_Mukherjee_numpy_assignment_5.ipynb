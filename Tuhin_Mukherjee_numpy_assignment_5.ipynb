{
  "nbformat": 4,
  "nbformat_minor": 0,
  "metadata": {
    "colab": {
      "name": "Tuhin Mukherjee - numpy-assignment-5.ipynb",
      "provenance": [],
      "collapsed_sections": []
    },
    "kernelspec": {
      "name": "python3",
      "display_name": "Python 3"
    }
  },
  "cells": [
    {
      "cell_type": "markdown",
      "metadata": {
        "id": "HHEofVKhbKOJ",
        "colab_type": "text"
      },
      "source": [
        "Let me tell you a story, Once a statistician was lost in a jungle. It was pitch dark. Nothing could be seen around. The statistician was afraid but he kept moving. Suddenly, he saw a small house. He went there and knocked on the door. Someone opened the door. \n",
        "\n",
        "Guess what was the first question that came out of the statistician's mouth...\n",
        "\n",
        "Bhaiya, yahan kahin aas paas Normal Distribution milega?\n",
        "\n",
        "That's how important Normal distribution is in a Statistician's (read, Data Analyst) life. Whenever a statistician is lost in an analysis, his/her first response is to reach or find a normal distribution somewhere. \n",
        "\n",
        "![alt text](https://media2.giphy.com/media/maIEBUU5OmrMA/source.gif)\n",
        "\n",
        "Although, we are going to study Normal Distribution in future episodes:). Today I want you to get a feel of the Normal/Gaussian Distribution."
      ]
    },
    {
      "cell_type": "markdown",
      "metadata": {
        "id": "udWaNZcNehRo",
        "colab_type": "text"
      },
      "source": [
        "In a normal distribution, there are 2 things of utmost importance, Mean and the Standard Deviation. ([Read more about Normal Distribution here](https://en.wikipedia.org/wiki/Normal_distribution)).\n",
        "\n",
        "I want you to create a function which takes 2 inputs - the Mean and Standard Deviation and prints out the graph of the Normal Distribution (also known as PDF, you will find the formula in the wiki article). Assume x is given and calculate y using the pdf formula. The resultant graph would look something like this (any one of them):!\n",
        "\n",
        "![](https://upload.wikimedia.org/wikipedia/commons/thumb/7/74/Normal_Distribution_PDF.svg/340px-Normal_Distribution_PDF.svg.png)"
      ]
    },
    {
      "cell_type": "code",
      "metadata": {
        "id": "OjHjIVjd1yyq",
        "colab_type": "code",
        "colab": {}
      },
      "source": [
        "import numpy as np\n",
        "from math import exp,sqrt,pi\n",
        "import matplotlib.pyplot as plt"
      ],
      "execution_count": 0,
      "outputs": []
    },
    {
      "cell_type": "code",
      "metadata": {
        "id": "fhPRbXGiXaoK",
        "colab_type": "code",
        "outputId": "153fc57f-0b67-41e7-9d3b-66920fe2186f",
        "colab": {
          "base_uri": "https://localhost:8080/",
          "height": 265
        }
      },
      "source": [
        "\n",
        "# Write function code here\n",
        "def plotter(mn,sd):\n",
        "  x=np.linspace(-10,10,100)\n",
        "  var=[]\n",
        "  for i in range(len(x)):\n",
        "    var.append(exp(-(x[i]-mn)**2/(2*sd**2))/(sd*sqrt(2*pi)))\n",
        "  plt.plot(x,var)\n",
        "\n",
        "\n",
        "plotter(0,1.0)\n",
        "\n"
      ],
      "execution_count": 0,
      "outputs": [
        {
          "output_type": "display_data",
          "data": {
            "image/png": "[encoded data removed]",
            "text/plain": [
              "<Figure size 432x288 with 1 Axes>"
            ]
          },
          "metadata": {
            "tags": []
          }
        }
      ]
    },
    {
      "cell_type": "code",
      "metadata": {
        "id": "PmUWbtnR76Nd",
        "colab_type": "code",
        "outputId": "cc2e520c-c71f-4752-b016-a65a3b6f2731",
        "colab": {
          "base_uri": "https://localhost:8080/",
          "height": 265
        }
      },
      "source": [
        "plotter(0,0.5)"
      ],
      "execution_count": 0,
      "outputs": [
        {
          "output_type": "display_data",
          "data": {
            "image/png": "[encoded data removed]",
            "text/plain": [
              "<Figure size 432x288 with 1 Axes>"
            ]
          },
          "metadata": {
            "tags": []
          }
        }
      ]
    },
    {
      "cell_type": "code",
      "metadata": {
        "id": "Ovx8W8WJ1YLU",
        "colab_type": "code",
        "colab": {}
      },
      "source": [
        ""
      ],
      "execution_count": 0,
      "outputs": []
    },
    {
      "cell_type": "code",
      "metadata": {
        "id": "p9x7LVMBgs43",
        "colab_type": "code",
        "colab": {}
      },
      "source": [
        "# You have write a function which takes 2 numpy array as input and returns \"Hoga\" or \"Nahi Hoga\" \n",
        "# depending on if broadcasting is possible on those two arrays"
      ],
      "execution_count": 0,
      "outputs": []
    },
    {
      "cell_type": "code",
      "metadata": {
        "id": "1G3RYovHJRYj",
        "colab_type": "code",
        "colab": {}
      },
      "source": [
        "# Write your logic here\n",
        "def check(arr1,arr2):\n",
        "  try:\n",
        "    row1=len(arr1[0])\n",
        "  except :\n",
        "    row1=1\n",
        "  try:\n",
        "    col1=len(arr1)\n",
        "  except TypeError:\n",
        "    col1=1\n",
        "  try:\n",
        "    row2=len(arr2[0])\n",
        "  except :\n",
        "    row2=1\n",
        "  try:\n",
        "    col2=len(arr2)\n",
        "  except TypeError:\n",
        "   col2=1\n",
        "\n",
        "  if ((row1==row2) & (col1==col2)):        \n",
        "            print(\"hoga broadcasting\")    \n",
        "  elif ((col1==col2) & ((row1==1) | (row2==1))):        \n",
        "            print(\"hoga broadcasting\")\n",
        "  elif ((col1==row2) & ((row1==1) | (col2==1))):\n",
        "            print(\"hoga broadcasting\")            \n",
        "  elif ((row1==col2) & ((col1==1) | (row2==1))):\n",
        "            print(\"hoga broadcasting\")            \n",
        "  elif ((row1==row2) & ((col1==1) | (col2==1))):        \n",
        "            print(\"hoga broadcasting\")\n",
        "  elif ((row1==col2) & (row2==col1)):\n",
        "            print(\"hoga broadcasting\")            \n",
        "  elif ((row1==1 & col1==1) | (row2==1 & col2==1)) :        \n",
        "            print(\"hoga broadcasting\")            \n",
        "  elif ((row1!=row2) & (col1!=col2)):        \n",
        "            print(\"nahe hoga broadcasting\")            \n",
        "  else :        \n",
        "            print(\"Nahe hoga broadcasting\")"
      ],
      "execution_count": 0,
      "outputs": []
    },
    {
      "cell_type": "code",
      "metadata": {
        "id": "HxyIWB__JUJQ",
        "colab_type": "code",
        "colab": {}
      },
      "source": [
        "# Test your function here"
      ],
      "execution_count": 0,
      "outputs": []
    },
    {
      "cell_type": "code",
      "metadata": {
        "id": "xhHKyQ1cAUi9",
        "colab_type": "code",
        "outputId": "27b7d014-afec-4c8b-dad4-f829fe5a9701",
        "colab": {
          "base_uri": "https://localhost:8080/",
          "height": 85
        }
      },
      "source": [
        "arr1=np.arange(8).reshape(2,4)\n",
        "arr2=np.arange(8,16).reshape(2,4)\n",
        "\n",
        "print(arr1)\n",
        "print(arr2)"
      ],
      "execution_count": 0,
      "outputs": [
        {
          "output_type": "stream",
          "text": [
            "[[0 1 2 3]\n",
            " [4 5 6 7]]\n",
            "[[ 8  9 10 11]\n",
            " [12 13 14 15]]\n"
          ],
          "name": "stdout"
        }
      ]
    },
    {
      "cell_type": "code",
      "metadata": {
        "id": "Wa_ChBZIAadJ",
        "colab_type": "code",
        "outputId": "a745932b-66e0-4c31-ef67-e333f93a44ee",
        "colab": {
          "base_uri": "https://localhost:8080/",
          "height": 34
        }
      },
      "source": [
        "check(arr1,arr2)"
      ],
      "execution_count": 0,
      "outputs": [
        {
          "output_type": "stream",
          "text": [
            "hoga broadcasting\n"
          ],
          "name": "stdout"
        }
      ]
    },
    {
      "cell_type": "code",
      "metadata": {
        "id": "PTuH-pOPAerg",
        "colab_type": "code",
        "outputId": "d1648890-a5b3-473c-fa5c-09df45e2e720",
        "colab": {
          "base_uri": "https://localhost:8080/",
          "height": 102
        }
      },
      "source": [
        "arr3=np.arange(3).reshape(1,3)\n",
        "arr4=np.arange(12).reshape(4,3)\n",
        "\n",
        "print(arr3)\n",
        "print(arr4)"
      ],
      "execution_count": 0,
      "outputs": [
        {
          "output_type": "stream",
          "text": [
            "[[0 1 2]]\n",
            "[[ 0  1  2]\n",
            " [ 3  4  5]\n",
            " [ 6  7  8]\n",
            " [ 9 10 11]]\n"
          ],
          "name": "stdout"
        }
      ]
    },
    {
      "cell_type": "code",
      "metadata": {
        "id": "lKTA1JWgA0Os",
        "colab_type": "code",
        "outputId": "816fdcd4-0dc5-43e8-be22-8f9a73a265f6",
        "colab": {
          "base_uri": "https://localhost:8080/",
          "height": 34
        }
      },
      "source": [
        "check(arr3,arr4)"
      ],
      "execution_count": 0,
      "outputs": [
        {
          "output_type": "stream",
          "text": [
            "hoga broadcasting\n"
          ],
          "name": "stdout"
        }
      ]
    },
    {
      "cell_type": "code",
      "metadata": {
        "id": "3r2OXy5AA3oI",
        "colab_type": "code",
        "outputId": "4a551ece-197d-4112-f348-75acb98afc62",
        "colab": {
          "base_uri": "https://localhost:8080/",
          "height": 102
        }
      },
      "source": [
        "arr5=np.arange(6).reshape(2,3)\n",
        "arr6=np.arange(6).reshape(3,2)\n",
        "\n",
        "print(arr5)\n",
        "print(arr6)"
      ],
      "execution_count": 0,
      "outputs": [
        {
          "output_type": "stream",
          "text": [
            "[[0 1 2]\n",
            " [3 4 5]]\n",
            "[[0 1]\n",
            " [2 3]\n",
            " [4 5]]\n"
          ],
          "name": "stdout"
        }
      ]
    },
    {
      "cell_type": "code",
      "metadata": {
        "id": "MntTknOgA65u",
        "colab_type": "code",
        "outputId": "9fa4a2cd-823d-4b84-908b-7b06c5793907",
        "colab": {
          "base_uri": "https://localhost:8080/",
          "height": 34
        }
      },
      "source": [
        "check(arr5,arr6)"
      ],
      "execution_count": 0,
      "outputs": [
        {
          "output_type": "stream",
          "text": [
            "Nahe hoga broadcasting\n"
          ],
          "name": "stdout"
        }
      ]
    },
    {
      "cell_type": "code",
      "metadata": {
        "id": "dKKsqtKrA-lN",
        "colab_type": "code",
        "outputId": "7646032b-f3db-4b79-bd4a-c000bbf0a298",
        "colab": {
          "base_uri": "https://localhost:8080/",
          "height": 119
        }
      },
      "source": [
        "arr11 = np.arange(4)\n",
        "arr12 = np.arange(20).reshape(5,4)\n",
        "print(arr11)\n",
        "print(arr12)"
      ],
      "execution_count": 0,
      "outputs": [
        {
          "output_type": "stream",
          "text": [
            "[0 1 2 3]\n",
            "[[ 0  1  2  3]\n",
            " [ 4  5  6  7]\n",
            " [ 8  9 10 11]\n",
            " [12 13 14 15]\n",
            " [16 17 18 19]]\n"
          ],
          "name": "stdout"
        }
      ]
    },
    {
      "cell_type": "code",
      "metadata": {
        "id": "W0L-zcwEGgM6",
        "colab_type": "code",
        "outputId": "424c38e9-3682-468d-fcd5-fc554c0644c6",
        "colab": {
          "base_uri": "https://localhost:8080/",
          "height": 34
        }
      },
      "source": [
        "check(arr11,arr12)"
      ],
      "execution_count": 0,
      "outputs": [
        {
          "output_type": "stream",
          "text": [
            "hoga broadcasting\n"
          ],
          "name": "stdout"
        }
      ]
    },
    {
      "cell_type": "code",
      "metadata": {
        "id": "fMVjZ5qsGj39",
        "colab_type": "code",
        "colab": {}
      },
      "source": [
        ""
      ],
      "execution_count": 0,
      "outputs": []
    }
  ]
}