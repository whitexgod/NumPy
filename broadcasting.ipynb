{
 "cells": [
  {
   "cell_type": "code",
   "execution_count": 70,
   "metadata": {},
   "outputs": [],
   "source": [
    "#conditions \n",
    "#either row=row\n",
    "#either column=column\n",
    "#either row & col = row & col\n",
    "#either row=col & col=row\n",
    "#either row & col = (1,1) it can broadcast itself to the required shape"
   ]
  },
  {
   "cell_type": "code",
   "execution_count": 133,
   "metadata": {},
   "outputs": [],
   "source": [
    "def check(arr1,arr2):\n",
    "    row1=len(arr1)\n",
    "    col1=len(arr1[0])\n",
    "    row2=len(arr2)\n",
    "    col2=len(arr2[0])\n",
    "    if ((row1==row2) & (col1==col2)):\n",
    "        \n",
    "            print(\"hoga broadcasting\")\n",
    "    \n",
    "    elif ((col1==col2) & ((row1==1) | (row2==1))):\n",
    "        \n",
    "            print(\"hoga broadcasting\")\n",
    "            \n",
    "    elif ((row1==row2) & ((col1==1) | (col2==1))):\n",
    "        \n",
    "            print(\"hoga broadcasting\")\n",
    "            \n",
    "    elif ((row1==1 & col1==1) | (row2==1 & col2==1)):\n",
    "        \n",
    "            print(\"hoga broadcasting\")\n",
    "    \n",
    "    elif ((row1==col2) & (row2==col1)):\n",
    "            print(\"hoga broadcasting\")\n",
    "            \n",
    "    elif ((row1!=row2) & (col1!=col2)):\n",
    "        \n",
    "            print(\"nahe hoga broadcasting\")\n",
    "            \n",
    "    \n",
    "            \n",
    "    else :\n",
    "        \n",
    "            print(\"Nahe hoga broadcasting\")\n",
    "            \n",
    "        "
   ]
  },
  {
   "cell_type": "code",
   "execution_count": 107,
   "metadata": {},
   "outputs": [],
   "source": [
    "import numpy as np"
   ]
  },
  {
   "cell_type": "code",
   "execution_count": 99,
   "metadata": {},
   "outputs": [
    {
     "name": "stdout",
     "output_type": "stream",
     "text": [
      "[[0 1 2 3]\n",
      " [4 5 6 7]]\n",
      "[[ 8  9 10 11]\n",
      " [12 13 14 15]]\n"
     ]
    }
   ],
   "source": [
    "arr1=np.arange(8).reshape(2,4)\n",
    "arr2=np.arange(8,16).reshape(2,4)\n",
    "\n",
    "print(arr1)\n",
    "print(arr2)"
   ]
  },
  {
   "cell_type": "code",
   "execution_count": 100,
   "metadata": {},
   "outputs": [
    {
     "name": "stdout",
     "output_type": "stream",
     "text": [
      "hoga broadcasting\n"
     ]
    }
   ],
   "source": [
    "check(arr1,arr2)"
   ]
  },
  {
   "cell_type": "code",
   "execution_count": 101,
   "metadata": {},
   "outputs": [
    {
     "name": "stdout",
     "output_type": "stream",
     "text": [
      "[[0 1 2]]\n",
      "[[ 0  1  2]\n",
      " [ 3  4  5]\n",
      " [ 6  7  8]\n",
      " [ 9 10 11]]\n"
     ]
    }
   ],
   "source": [
    "arr3=np.arange(3).reshape(1,3)\n",
    "arr4=np.arange(12).reshape(4,3)\n",
    "\n",
    "print(arr3)\n",
    "print(arr4)"
   ]
  },
  {
   "cell_type": "code",
   "execution_count": 102,
   "metadata": {},
   "outputs": [
    {
     "name": "stdout",
     "output_type": "stream",
     "text": [
      "hoga broadcasting\n"
     ]
    }
   ],
   "source": [
    "check(arr3,arr4)"
   ]
  },
  {
   "cell_type": "code",
   "execution_count": 129,
   "metadata": {},
   "outputs": [
    {
     "name": "stdout",
     "output_type": "stream",
     "text": [
      "[[0 1 2 3]\n",
      " [4 5 6 7]]\n",
      "[[ 0  1  2  3]\n",
      " [ 4  5  6  7]\n",
      " [ 8  9 10 11]\n",
      " [12 13 14 15]\n",
      " [16 17 18 19]]\n"
     ]
    }
   ],
   "source": [
    "arr5=np.arange(8).reshape(2,4)\n",
    "arr6=np.arange(20).reshape(5,4)\n",
    "\n",
    "print(arr5)\n",
    "print(arr6)"
   ]
  },
  {
   "cell_type": "code",
   "execution_count": 130,
   "metadata": {},
   "outputs": [
    {
     "name": "stdout",
     "output_type": "stream",
     "text": [
      "Nahe hoga broadcasting\n"
     ]
    }
   ],
   "source": [
    "check(arr5,arr6)"
   ]
  },
  {
   "cell_type": "code",
   "execution_count": 152,
   "metadata": {},
   "outputs": [],
   "source": [
    "def check2(arr1,arr2):\n",
    "    try:\n",
    "      row1=len(arr1[0])\n",
    "    except :\n",
    "      row1=1\n",
    "    try:\n",
    "       col1=len(arr1)\n",
    "    except TypeError:\n",
    "       col1=1\n",
    "    try:\n",
    "      row2=len(arr2[0])\n",
    "    except :\n",
    "      row2=1\n",
    "    try:\n",
    "       col2=len(arr2)\n",
    "    except TypeError:\n",
    "       col2=1\n",
    "    print(row1)\n",
    "    print(col1)\n",
    "    print(row2)\n",
    "    print(col2)\n",
    "    if ((row1==row2) & (col1==col2)):\n",
    "        \n",
    "            print(\"hoga broadcasting\")\n",
    "    \n",
    "    elif ((col1==col2) & ((row1==1) | (row2==1))):\n",
    "        \n",
    "            print(\"hoga broadcasting\")\n",
    "            \n",
    "    elif ((row1==row2) & ((col1==1) | (col2==1))):\n",
    "        \n",
    "            print(\"hoga broadcasting\")\n",
    "            \n",
    "    elif ((row1==1 & col1==1) | (row2==1 & col2==1)):\n",
    "        \n",
    "            print(\"hoga broadcasting\")\n",
    "    \n",
    "    elif ((row1==col2) & (row2==col1)):\n",
    "            print(\"hoga broadcasting\")\n",
    "            \n",
    "    elif ((row1!=row2) & (col1!=col2)):\n",
    "        \n",
    "            print(\"nahe hoga broadcasting\")\n",
    "    elif ((col1==row2) & ((row1==1) | (col2==1))):\n",
    "            print(\"hoga broadcasting\")\n",
    "            \n",
    "    elif ((row1==col2) & ((col1==1) | (row2==1))):\n",
    "            print(\"hoga broadcasting\")\n",
    "            \n",
    "    else :\n",
    "        \n",
    "            print(\"Nahe hoga broadcasting\")\n",
    "            \n",
    "        "
   ]
  },
  {
   "cell_type": "code",
   "execution_count": 145,
   "metadata": {},
   "outputs": [
    {
     "name": "stdout",
     "output_type": "stream",
     "text": [
      "[0 1 2]\n",
      "[[0 1 2]\n",
      " [3 4 5]\n",
      " [6 7 8]]\n"
     ]
    }
   ],
   "source": [
    "arr9=np.arange(3)\n",
    "arr10=np.arange(9).reshape(3,3)\n",
    "\n",
    "print(arr9)\n",
    "print(arr10)"
   ]
  },
  {
   "cell_type": "code",
   "execution_count": 146,
   "metadata": {},
   "outputs": [
    {
     "name": "stdout",
     "output_type": "stream",
     "text": [
      "1\n",
      "3\n",
      "3\n",
      "3\n",
      "hoga broadcasting\n"
     ]
    }
   ],
   "source": [
    "check2(arr9,arr10)"
   ]
  },
  {
   "cell_type": "code",
   "execution_count": 153,
   "metadata": {},
   "outputs": [
    {
     "name": "stdout",
     "output_type": "stream",
     "text": [
      "[0 1 2 3]\n",
      "[[ 0  1  2  3]\n",
      " [ 4  5  6  7]\n",
      " [ 8  9 10 11]\n",
      " [12 13 14 15]\n",
      " [16 17 18 19]]\n"
     ]
    }
   ],
   "source": [
    "arr11 = np.arange(4)\n",
    "arr12 = np.arange(20).reshape(5,4)\n",
    "print(arr11)\n",
    "print(arr12)"
   ]
  },
  {
   "cell_type": "code",
   "execution_count": 154,
   "metadata": {},
   "outputs": [
    {
     "name": "stdout",
     "output_type": "stream",
     "text": [
      "1\n",
      "4\n",
      "4\n",
      "5\n",
      "nahe hoga broadcasting\n"
     ]
    }
   ],
   "source": [
    "check2(arr11,arr12)"
   ]
  },
  {
   "cell_type": "code",
   "execution_count": 143,
   "metadata": {},
   "outputs": [
    {
     "data": {
      "text/plain": [
       "array([[ 0,  2,  4,  6],\n",
       "       [ 4,  6,  8, 10],\n",
       "       [ 8, 10, 12, 14],\n",
       "       [12, 14, 16, 18],\n",
       "       [16, 18, 20, 22]])"
      ]
     },
     "execution_count": 143,
     "metadata": {},
     "output_type": "execute_result"
    }
   ],
   "source": [
    "arr11+arr12"
   ]
  },
  {
   "cell_type": "code",
   "execution_count": null,
   "metadata": {},
   "outputs": [],
   "source": []
  }
 ],
 "metadata": {
  "kernelspec": {
   "display_name": "Python 3",
   "language": "python",
   "name": "python3"
  },
  "language_info": {
   "codemirror_mode": {
    "name": "ipython",
    "version": 3
   },
   "file_extension": ".py",
   "mimetype": "text/x-python",
   "name": "python",
   "nbconvert_exporter": "python",
   "pygments_lexer": "ipython3",
   "version": "3.7.4"
  }
 },
 "nbformat": 4,
 "nbformat_minor": 2
}
