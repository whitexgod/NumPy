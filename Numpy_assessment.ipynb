{
  "nbformat": 4,
  "nbformat_minor": 0,
  "metadata": {
    "colab": {
      "name": "Numpy-assessment.ipynb",
      "provenance": []
    },
    "kernelspec": {
      "name": "python3",
      "display_name": "Python 3"
    }
  },
  "cells": [
    {
      "cell_type": "markdown",
      "metadata": {
        "id": "cCSwE1Usg72w",
        "colab_type": "text"
      },
      "source": [
        "Q1. **Get the positions where elements of a and b match**\n",
        "\n",
        "Input:\n",
        "\n",
        "a = np.array([1,2,3,2,3,4,3,4,5,6])\n",
        "b = np.array([7,2,10,2,7,4,9,4,9,8])\n",
        "\n",
        "Output:\n",
        "\n",
        "(array([1, 3, 5, 7]),)\n",
        "\n"
      ]
    },
    {
      "cell_type": "code",
      "metadata": {
        "id": "5B5wiT5hhfv7",
        "colab_type": "code",
        "colab": {}
      },
      "source": [
        "# Write code for Q1 here"
      ],
      "execution_count": 0,
      "outputs": []
    },
    {
      "cell_type": "markdown",
      "metadata": {
        "id": "kKl5YKFqhNSM",
        "colab_type": "text"
      },
      "source": [
        "Q2. **Get all items between 5 and 10 from a.**\n",
        "\n",
        "a = np.array([2, 6, 1, 9, 10, 3, 27])"
      ]
    },
    {
      "cell_type": "code",
      "metadata": {
        "id": "qwC0XUjChK_T",
        "colab_type": "code",
        "colab": {}
      },
      "source": [
        "# Write code for Q2 here\n",
        "\n"
      ],
      "execution_count": 0,
      "outputs": []
    },
    {
      "cell_type": "markdown",
      "metadata": {
        "id": "Y9nOEHJJh29V",
        "colab_type": "text"
      },
      "source": [
        "Q3. **Swap columns 1 and 2 in the array arr.**\n",
        "\n",
        "arr = np.arange(9).reshape(3,3)"
      ]
    },
    {
      "cell_type": "code",
      "metadata": {
        "id": "k-3XCKJdh8Dr",
        "colab_type": "code",
        "colab": {}
      },
      "source": [
        "# Write code for Q3 here"
      ],
      "execution_count": 0,
      "outputs": []
    },
    {
      "cell_type": "markdown",
      "metadata": {
        "id": "kWevzjqWiAgN",
        "colab_type": "text"
      },
      "source": [
        "Q4. Reverse the rows of a 2D array arr.\n",
        "\n",
        "arr = np.arange(9).reshape(3,3)"
      ]
    },
    {
      "cell_type": "code",
      "metadata": {
        "id": "4rYagU47h_RU",
        "colab_type": "code",
        "colab": {}
      },
      "source": [
        "# Write code for Q4 here"
      ],
      "execution_count": 0,
      "outputs": []
    },
    {
      "cell_type": "markdown",
      "metadata": {
        "id": "BijNqssxiQpx",
        "colab_type": "text"
      },
      "source": [
        "Q5. Find the 5th and 95th percentile of iris's sepallength\n",
        "Note - Find input code in the next cell"
      ]
    },
    {
      "cell_type": "code",
      "metadata": {
        "id": "4kfYgwd5ioE0",
        "colab_type": "code",
        "outputId": "c1944169-32e0-4a71-b4fa-115ad0c9116e",
        "colab": {
          "base_uri": "https://localhost:8080/",
          "height": 221
        }
      },
      "source": [
        "import numpy as np\n",
        "url = 'https://archive.ics.uci.edu/ml/machine-learning-databases/iris/iris.data'\n",
        "sepallength = np.genfromtxt(url, delimiter=',', dtype='float', usecols=[0])\n",
        "sepallength\n",
        "\n",
        "# Write code for Q5 here"
      ],
      "execution_count": 0,
      "outputs": [
        {
          "output_type": "execute_result",
          "data": {
            "text/plain": [
              "array([5.1, 4.9, 4.7, 4.6, 5. , 5.4, 4.6, 5. , 4.4, 4.9, 5.4, 4.8, 4.8,\n",
              "       4.3, 5.8, 5.7, 5.4, 5.1, 5.7, 5.1, 5.4, 5.1, 4.6, 5.1, 4.8, 5. ,\n",
              "       5. , 5.2, 5.2, 4.7, 4.8, 5.4, 5.2, 5.5, 4.9, 5. , 5.5, 4.9, 4.4,\n",
              "       5.1, 5. , 4.5, 4.4, 5. , 5.1, 4.8, 5.1, 4.6, 5.3, 5. , 7. , 6.4,\n",
              "       6.9, 5.5, 6.5, 5.7, 6.3, 4.9, 6.6, 5.2, 5. , 5.9, 6. , 6.1, 5.6,\n",
              "       6.7, 5.6, 5.8, 6.2, 5.6, 5.9, 6.1, 6.3, 6.1, 6.4, 6.6, 6.8, 6.7,\n",
              "       6. , 5.7, 5.5, 5.5, 5.8, 6. , 5.4, 6. , 6.7, 6.3, 5.6, 5.5, 5.5,\n",
              "       6.1, 5.8, 5. , 5.6, 5.7, 5.7, 6.2, 5.1, 5.7, 6.3, 5.8, 7.1, 6.3,\n",
              "       6.5, 7.6, 4.9, 7.3, 6.7, 7.2, 6.5, 6.4, 6.8, 5.7, 5.8, 6.4, 6.5,\n",
              "       7.7, 7.7, 6. , 6.9, 5.6, 7.7, 6.3, 6.7, 7.2, 6.2, 6.1, 6.4, 7.2,\n",
              "       7.4, 7.9, 6.4, 6.3, 6.1, 7.7, 6.3, 6.4, 6. , 6.9, 6.7, 6.9, 5.8,\n",
              "       6.8, 6.7, 6.7, 6.3, 6.5, 6.2, 5.9])"
            ]
          },
          "metadata": {
            "tags": []
          },
          "execution_count": 3
        }
      ]
    },
    {
      "cell_type": "markdown",
      "metadata": {
        "id": "6CYl26T1i-f4",
        "colab_type": "text"
      },
      "source": [
        "Q6. Find the positions of NaN in the sepalLength numpy array"
      ]
    },
    {
      "cell_type": "code",
      "metadata": {
        "id": "LUMeHhQCiqN5",
        "colab_type": "code",
        "outputId": "c361d321-1310-4f91-8d4c-17941e5bcd2e",
        "colab": {
          "base_uri": "https://localhost:8080/",
          "height": 221
        }
      },
      "source": [
        "# This is the input of your question\n",
        "url = 'https://archive.ics.uci.edu/ml/machine-learning-databases/iris/iris.data'\n",
        "iris_2d = np.genfromtxt(url, delimiter=',', dtype='float')\n",
        "iris_2d[np.random.randint(150, size=20), np.random.randint(4, size=20)] = np.nan\n",
        "\n",
        "sepalLength=iris_2d[:,0]\n",
        "# This is the sepalLength\n",
        "sepalLength\n",
        "\n",
        "# Write your code here\n",
        "# Hint - You can use the isNan() function."
      ],
      "execution_count": 0,
      "outputs": [
        {
          "output_type": "execute_result",
          "data": {
            "text/plain": [
              "array([5.1, 4.9, 4.7, 4.6, 5. , 5.4, 4.6, nan, 4.4, 4.9, 5.4, nan, 4.8,\n",
              "       4.3, 5.8, 5.7, 5.4, 5.1, 5.7, 5.1, 5.4, 5.1, 4.6, 5.1, 4.8, 5. ,\n",
              "       5. , 5.2, 5.2, 4.7, 4.8, 5.4, 5.2, 5.5, 4.9, 5. , 5.5, 4.9, 4.4,\n",
              "       5.1, 5. , 4.5, 4.4, 5. , 5.1, 4.8, 5.1, 4.6, 5.3, 5. , 7. , 6.4,\n",
              "       6.9, 5.5, 6.5, 5.7, 6.3, 4.9, 6.6, 5.2, 5. , 5.9, 6. , 6.1, 5.6,\n",
              "       6.7, 5.6, 5.8, 6.2, 5.6, 5.9, 6.1, 6.3, 6.1, 6.4, 6.6, 6.8, 6.7,\n",
              "       6. , 5.7, 5.5, 5.5, 5.8, 6. , 5.4, 6. , 6.7, 6.3, 5.6, 5.5, 5.5,\n",
              "       6.1, 5.8, 5. , 5.6, 5.7, 5.7, 6.2, 5.1, 5.7, 6.3, 5.8, 7.1, 6.3,\n",
              "       6.5, 7.6, 4.9, 7.3, 6.7, 7.2, 6.5, 6.4, 6.8, 5.7, 5.8, 6.4, 6.5,\n",
              "       7.7, 7.7, 6. , 6.9, 5.6, 7.7, 6.3, 6.7, 7.2, 6.2, 6.1, nan, 7.2,\n",
              "       7.4, 7.9, 6.4, 6.3, 6.1, 7.7, 6.3, 6.4, 6. , 6.9, 6.7, nan, 5.8,\n",
              "       nan, 6.7, 6.7, 6.3, 6.5, 6.2, 5.9])"
            ]
          },
          "metadata": {
            "tags": []
          },
          "execution_count": 6
        }
      ]
    },
    {
      "cell_type": "markdown",
      "metadata": {
        "id": "jFhzriKekbBa",
        "colab_type": "text"
      },
      "source": [
        "Q7 .Replace all the null values with 0 in the above used sepalLength array"
      ]
    },
    {
      "cell_type": "code",
      "metadata": {
        "id": "PnUjIs63jefg",
        "colab_type": "code",
        "colab": {}
      },
      "source": [
        "# Write your code here"
      ],
      "execution_count": 0,
      "outputs": []
    },
    {
      "cell_type": "markdown",
      "metadata": {
        "id": "wxTOw6hykmko",
        "colab_type": "text"
      },
      "source": [
        "Q8. Find the 2nd largest value for the given array."
      ]
    },
    {
      "cell_type": "code",
      "metadata": {
        "id": "4_HOzJJOk78a",
        "colab_type": "code",
        "outputId": "f02f8e6f-c0b9-4f86-8929-a96c1263c967",
        "colab": {
          "base_uri": "https://localhost:8080/",
          "height": 68
        }
      },
      "source": [
        "# Input\n",
        "arr=np.random.randint(23,78, size=9).reshape(3,3)\n",
        "arr\n",
        "\n",
        "# Write your code here"
      ],
      "execution_count": 0,
      "outputs": [
        {
          "output_type": "execute_result",
          "data": {
            "text/plain": [
              "array([[73, 39, 51],\n",
              "       [56, 27, 60],\n",
              "       [71, 49, 64]])"
            ]
          },
          "metadata": {
            "tags": []
          },
          "execution_count": 7
        }
      ]
    },
    {
      "cell_type": "markdown",
      "metadata": {
        "id": "qCccgKVnlKpZ",
        "colab_type": "text"
      },
      "source": [
        "Q9. From the array a, replace all values greater than 30 by 30 and less than 10 by 10."
      ]
    },
    {
      "cell_type": "code",
      "metadata": {
        "id": "r7ebd8SnlEn8",
        "colab_type": "code",
        "outputId": "07ccca76-1cdf-486e-9322-c5281633ae0f",
        "colab": {
          "base_uri": "https://localhost:8080/",
          "height": 68
        }
      },
      "source": [
        "# Input\n",
        "arr=np.random.randint(1,78, size=9).reshape(3,3)\n",
        "arr\n",
        "\n",
        "# Write your code here"
      ],
      "execution_count": 0,
      "outputs": [
        {
          "output_type": "execute_result",
          "data": {
            "text/plain": [
              "array([[51, 77, 32],\n",
              "       [66, 72, 65],\n",
              "       [ 8, 67, 50]])"
            ]
          },
          "metadata": {
            "tags": []
          },
          "execution_count": 9
        }
      ]
    },
    {
      "cell_type": "markdown",
      "metadata": {
        "id": "BtdfUWj0lyMf",
        "colab_type": "text"
      },
      "source": [
        "Q10. Drop all nan values from a 1D numpy array"
      ]
    },
    {
      "cell_type": "code",
      "metadata": {
        "id": "jd09glLJlsg4",
        "colab_type": "code",
        "outputId": "9a5c6111-1e32-4de9-e0ba-e691a5c2cfd7",
        "colab": {
          "base_uri": "https://localhost:8080/",
          "height": 34
        }
      },
      "source": [
        "arr=np.array([1,2,3,np.nan,5,6,7,np.nan])\n",
        "arr\n",
        "\n",
        "# Write code here"
      ],
      "execution_count": 0,
      "outputs": [
        {
          "output_type": "execute_result",
          "data": {
            "text/plain": [
              "array([ 1.,  2.,  3., nan,  5.,  6.,  7., nan])"
            ]
          },
          "metadata": {
            "tags": []
          },
          "execution_count": 12
        }
      ]
    },
    {
      "cell_type": "code",
      "metadata": {
        "id": "BXJ-SXHMnZew",
        "colab_type": "code",
        "colab": {}
      },
      "source": [
        ""
      ],
      "execution_count": 0,
      "outputs": []
    }
  ]
}